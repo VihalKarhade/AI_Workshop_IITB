{
 "cells": [
  {
   "cell_type": "code",
   "execution_count": 1,
   "id": "f9570b53",
   "metadata": {},
   "outputs": [],
   "source": [
    "import cv2\n",
    "import random\n",
    "\n",
    "def noise_black_white(image):\n",
    "    # Get the dimensions of Image\n",
    "    row, col = image.shape\n",
    "    num_of_pixels = random.randint(1500, 20000)\n",
    "    for i in range(num_of_pixels):\n",
    "        # pick random y-coordinate\n",
    "        y_coordinate = random.randint(0, row - 1)\n",
    "        # pick random x-coordinate\n",
    "        x_coordinate = random.randint(0, col - 1)\n",
    "        image[y_coordinate][x_coordinate] = 255     # 255 = for white\n",
    "    for i in range(num_of_pixels):\n",
    "        # pick random y-coordinate\n",
    "        y_coordinate = random.randint(0, row - 1)   # 0 = for black\n",
    "        #0 is colour code for black\n",
    "        # pick random x-coordinate\n",
    "        x_coordinate = random.randint(0, col - 1)\n",
    "        image[y_coordinate][x_coordinate] = 0\n",
    "    return image\n",
    "\n",
    "image = cv2.imread(\"C:\\\\Users\\\\VIHAL\\\\OneDrive\\\\Desktop\\\\Images\\\\parrot.jpg\", cv2.IMREAD_GRAYSCALE)\n",
    "\n",
    "cv2.imshow('Original Image', image)\n",
    "cv2.imshow('Noisy Image',noise_black_white(image))\n",
    "\n",
    "cv2.imwrite(\"C:\\\\Users\\\\VIHAL\\\\OneDrive\\\\Desktop\\\\Images\\\\noisy-image.jpg\",noise_black_white(image))\n",
    "\n",
    "# press any key with 0 wait time\n",
    "cv2.waitKey(0)\n",
    "# Close all imageframe\n",
    "cv2.destroyAllWindows()"
   ]
  },
  {
   "cell_type": "code",
   "execution_count": null,
   "id": "80e9e5d0",
   "metadata": {},
   "outputs": [],
   "source": []
  },
  {
   "cell_type": "code",
   "execution_count": 2,
   "id": "e4bd4fc5",
   "metadata": {},
   "outputs": [],
   "source": [
    "# import cv2\n",
    "# def salt_and_paper(image):\n",
    "#     for \n",
    "# image = cv2.imread(\"C:/Users/VIHAL/Desktop/A/parrot.jpg\")\n",
    "\n",
    "# \\"
   ]
  },
  {
   "cell_type": "markdown",
   "id": "2aba3831",
   "metadata": {},
   "source": [
    "# Processing noisy image"
   ]
  },
  {
   "cell_type": "code",
   "execution_count": 3,
   "id": "4021edfa",
   "metadata": {},
   "outputs": [
    {
     "name": "stdout",
     "output_type": "stream",
     "text": [
      "[[0.11111111 0.11111111 0.11111111]\n",
      " [0.11111111 0.11111111 0.11111111]\n",
      " [0.11111111 0.11111111 0.11111111]]\n"
     ]
    }
   ],
   "source": [
    "import numpy as np\n",
    "img = cv2.imread(\"C:\\\\Users\\\\VIHAL\\\\OneDrive\\\\Desktop\\\\Images\\\\noisy-image.jpg\")\n",
    "\n",
    "# Blur using Filter2D\n",
    "kernel = np.ones((3,3), np.float32) / 9\n",
    "print(kernel)\n",
    "\n",
    "# Filter2D\n",
    "smoothed = cv2.filter2D(img, -1, kernel)\n",
    "\n",
    "# Average Blur\n",
    "img_blur = cv2.blur(img, (5,5))\n",
    "\n",
    "# Median Blur\n",
    "m_blur = cv2.medianBlur(img, 7)\n",
    "\n",
    "# Gaussian Blur, sigmaX(stdDev)= 1\n",
    "g_blur = cv2.GaussianBlur(img, (7,7), 1)\n",
    "\n",
    "cv2.imshow('Original', img)\n",
    "cv2.imshow('Blur', smoothed)\n",
    "cv2.imshow('average', img_blur)\n",
    "cv2.imshow('median', m_blur)\n",
    "cv2.imshow('gaussian', g_blur)\n",
    "\n",
    "# press any key with 0 wait time\n",
    "cv2.waitKey(0)\n",
    "# Close all imageframe\n",
    "cv2.destroyAllWindows()"
   ]
  },
  {
   "cell_type": "code",
   "execution_count": null,
   "id": "a5e46a1e",
   "metadata": {},
   "outputs": [],
   "source": []
  }
 ],
 "metadata": {
  "kernelspec": {
   "display_name": "Python 3 (ipykernel)",
   "language": "python",
   "name": "python3"
  },
  "language_info": {
   "codemirror_mode": {
    "name": "ipython",
    "version": 3
   },
   "file_extension": ".py",
   "mimetype": "text/x-python",
   "name": "python",
   "nbconvert_exporter": "python",
   "pygments_lexer": "ipython3",
   "version": "3.11.5"
  }
 },
 "nbformat": 4,
 "nbformat_minor": 5
}

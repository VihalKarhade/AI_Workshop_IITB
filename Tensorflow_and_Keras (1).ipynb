{
  "nbformat": 4,
  "nbformat_minor": 0,
  "metadata": {
    "colab": {
      "provenance": []
    },
    "kernelspec": {
      "name": "python3",
      "display_name": "Python 3"
    },
    "language_info": {
      "name": "python"
    }
  },
  "cells": [
    {
      "cell_type": "code",
      "execution_count": null,
      "metadata": {
        "id": "B8VwNdla0U1Z"
      },
      "outputs": [],
      "source": [
        "import cv2"
      ]
    },
    {
      "cell_type": "code",
      "source": [
        "import tensorflow as tf"
      ],
      "metadata": {
        "id": "MpwRBbJF0cto"
      },
      "execution_count": null,
      "outputs": []
    },
    {
      "cell_type": "code",
      "source": [
        "import keras"
      ],
      "metadata": {
        "id": "azAQ8ryg0fHx"
      },
      "execution_count": null,
      "outputs": []
    },
    {
      "cell_type": "code",
      "source": [
        "const_1 = tf.constant(0)\n"
      ],
      "metadata": {
        "id": "CAuFRZER0k1r"
      },
      "execution_count": null,
      "outputs": []
    },
    {
      "cell_type": "code",
      "source": [
        "const_1.shape"
      ],
      "metadata": {
        "colab": {
          "base_uri": "https://localhost:8080/"
        },
        "id": "O8BQt4M80lj3",
        "outputId": "c90ead2a-29ca-4d81-a52b-cfaaef1d5eb9"
      },
      "execution_count": null,
      "outputs": [
        {
          "output_type": "execute_result",
          "data": {
            "text/plain": [
              "TensorShape([])"
            ]
          },
          "metadata": {},
          "execution_count": 8
        }
      ]
    },
    {
      "cell_type": "code",
      "source": [
        "const_1.numpy()\n"
      ],
      "metadata": {
        "colab": {
          "base_uri": "https://localhost:8080/"
        },
        "id": "5b5TXJKe1XNq",
        "outputId": "6e2f2444-345d-43b9-ffd3-cc5e56fd5100"
      },
      "execution_count": null,
      "outputs": [
        {
          "output_type": "execute_result",
          "data": {
            "text/plain": [
              "0"
            ]
          },
          "metadata": {},
          "execution_count": 9
        }
      ]
    },
    {
      "cell_type": "code",
      "source": [
        "const_2 = tf.constant([10,20,30,40,50,60,70,80])\n"
      ],
      "metadata": {
        "id": "6HsEcVVB1eye"
      },
      "execution_count": null,
      "outputs": []
    },
    {
      "cell_type": "code",
      "source": [
        "const_2.shape\n"
      ],
      "metadata": {
        "colab": {
          "base_uri": "https://localhost:8080/"
        },
        "id": "SzkjfDAN1hVB",
        "outputId": "36559798-0e45-4271-e657-11e4e79dc4df"
      },
      "execution_count": null,
      "outputs": [
        {
          "output_type": "execute_result",
          "data": {
            "text/plain": [
              "TensorShape([8])"
            ]
          },
          "metadata": {},
          "execution_count": 11
        }
      ]
    },
    {
      "cell_type": "code",
      "source": [
        "const_2.numpy()\n"
      ],
      "metadata": {
        "colab": {
          "base_uri": "https://localhost:8080/"
        },
        "id": "CYFe26vs1kmb",
        "outputId": "20b29103-bd33-47ed-e95f-c72a79928191"
      },
      "execution_count": null,
      "outputs": [
        {
          "output_type": "execute_result",
          "data": {
            "text/plain": [
              "array([10, 20, 30, 40, 50, 60, 70, 80], dtype=int32)"
            ]
          },
          "metadata": {},
          "execution_count": 12
        }
      ]
    },
    {
      "cell_type": "code",
      "source": [
        "const_3 = tf.constant([[10,20,30,40,50,60,70],\n",
        "                      [10,20,30,40,50,60,70],\n",
        "                      [10,20,30,40,50,60,70]])"
      ],
      "metadata": {
        "id": "ihBckfOA1moM"
      },
      "execution_count": null,
      "outputs": []
    },
    {
      "cell_type": "code",
      "source": [
        "const_3.shape\n"
      ],
      "metadata": {
        "colab": {
          "base_uri": "https://localhost:8080/"
        },
        "id": "Qy18iWGl1q8F",
        "outputId": "99b3dc09-75d2-463d-86a4-40235f5dc8c9"
      },
      "execution_count": null,
      "outputs": [
        {
          "output_type": "execute_result",
          "data": {
            "text/plain": [
              "TensorShape([3, 7])"
            ]
          },
          "metadata": {},
          "execution_count": 16
        }
      ]
    },
    {
      "cell_type": "code",
      "source": [
        "const_3.numpy()\n"
      ],
      "metadata": {
        "colab": {
          "base_uri": "https://localhost:8080/"
        },
        "id": "jLC_VySo186h",
        "outputId": "023ef971-4c0e-46a4-da6b-b2a19fc4fedf"
      },
      "execution_count": null,
      "outputs": [
        {
          "output_type": "execute_result",
          "data": {
            "text/plain": [
              "array([[10, 20, 30, 40, 50, 60, 70],\n",
              "       [10, 20, 30, 40, 50, 60, 70],\n",
              "       [10, 20, 30, 40, 50, 60, 70]], dtype=int32)"
            ]
          },
          "metadata": {},
          "execution_count": 17
        }
      ]
    },
    {
      "cell_type": "code",
      "source": [
        "const_4 =  tf.constant([[[10,20,30,40,50,60,70],\n",
        "                       [10,20,30,40,50,60,70],\n",
        "                       [10,20,30,40,50,60,70],\n",
        "\n",
        "                       [10,20,30,40,50,60,70],\n",
        "                       [10,20,30,40,50,60,70],\n",
        "                       [10,20,30,40,50,60,70]]])"
      ],
      "metadata": {
        "id": "g37n3_it2F_D"
      },
      "execution_count": null,
      "outputs": []
    },
    {
      "cell_type": "code",
      "source": [
        "const_4.shape    #3 dimension(A tensor)\n"
      ],
      "metadata": {
        "colab": {
          "base_uri": "https://localhost:8080/"
        },
        "id": "-nPaXcx42KB-",
        "outputId": "5bdd9d60-8c0f-495c-d48d-3a63063d7224"
      },
      "execution_count": null,
      "outputs": [
        {
          "output_type": "execute_result",
          "data": {
            "text/plain": [
              "TensorShape([1, 6, 7])"
            ]
          },
          "metadata": {},
          "execution_count": 19
        }
      ]
    },
    {
      "cell_type": "code",
      "source": [
        "const_4.numpy()\n"
      ],
      "metadata": {
        "colab": {
          "base_uri": "https://localhost:8080/"
        },
        "id": "O2xyce4G2Mqn",
        "outputId": "8bd29673-9b90-4aa6-9139-24e1dd8aa235"
      },
      "execution_count": null,
      "outputs": [
        {
          "output_type": "execute_result",
          "data": {
            "text/plain": [
              "array([[[10, 20, 30, 40, 50, 60, 70],\n",
              "        [10, 20, 30, 40, 50, 60, 70],\n",
              "        [10, 20, 30, 40, 50, 60, 70],\n",
              "        [10, 20, 30, 40, 50, 60, 70],\n",
              "        [10, 20, 30, 40, 50, 60, 70],\n",
              "        [10, 20, 30, 40, 50, 60, 70]]], dtype=int32)"
            ]
          },
          "metadata": {},
          "execution_count": 20
        }
      ]
    },
    {
      "cell_type": "code",
      "source": [
        "#This is N-Dimentional representation of an Numpy Array Representing Various Ranks Like:\n",
        "#scalar : rank =0, vector : rank=1, matrix: rank=2, tensor:3 or more\n"
      ],
      "metadata": {
        "id": "PY2XnRoq2O-h"
      },
      "execution_count": null,
      "outputs": []
    },
    {
      "cell_type": "code",
      "source": [
        "X= tf.constant([[8],\n",
        "                [9],\n",
        "                [10],\n",
        "                [11],\n",
        "                [21],\n",
        "                [23]])\n",
        "X.shape"
      ],
      "metadata": {
        "colab": {
          "base_uri": "https://localhost:8080/"
        },
        "id": "YSx4Ip8-2tRK",
        "outputId": "9ea55757-ef7c-42cc-ec9e-0015ab80bdaa"
      },
      "execution_count": null,
      "outputs": [
        {
          "output_type": "execute_result",
          "data": {
            "text/plain": [
              "TensorShape([6, 1])"
            ]
          },
          "metadata": {},
          "execution_count": 26
        }
      ]
    },
    {
      "cell_type": "code",
      "source": [
        "W = tf.Variable([[10],\n",
        "                 [11],\n",
        "                 [12],\n",
        "                 [13],\n",
        "                 [14],\n",
        "                 [15]])\n",
        "W.shape"
      ],
      "metadata": {
        "colab": {
          "base_uri": "https://localhost:8080/"
        },
        "id": "qVsOX6fV3Cqc",
        "outputId": "7d168056-602c-438e-dc73-df3b063e1545"
      },
      "execution_count": null,
      "outputs": [
        {
          "output_type": "execute_result",
          "data": {
            "text/plain": [
              "TensorShape([6, 1])"
            ]
          },
          "metadata": {},
          "execution_count": 24
        }
      ]
    },
    {
      "cell_type": "code",
      "source": [
        "WT = tf.transpose(W)\n",
        "WT.numpy()"
      ],
      "metadata": {
        "colab": {
          "base_uri": "https://localhost:8080/"
        },
        "id": "aW5u9sGw3Vq3",
        "outputId": "172c452a-06a2-465e-c5f2-b261fd7b27ef"
      },
      "execution_count": null,
      "outputs": [
        {
          "output_type": "execute_result",
          "data": {
            "text/plain": [
              "array([[10, 11, 12, 13, 14, 15]], dtype=int32)"
            ]
          },
          "metadata": {},
          "execution_count": 30
        }
      ]
    },
    {
      "cell_type": "code",
      "source": [
        "# Y = WT*X+bias\n",
        "tf.tensordot(WT , X, axes = 1)"
      ],
      "metadata": {
        "colab": {
          "base_uri": "https://localhost:8080/"
        },
        "id": "5sgZnRLb4mmC",
        "outputId": "2bcdc424-8533-46ae-ab9b-49a181a2f916"
      },
      "execution_count": null,
      "outputs": [
        {
          "output_type": "execute_result",
          "data": {
            "text/plain": [
              "<tf.Tensor: shape=(1, 1), dtype=int32, numpy=array([[1081]], dtype=int32)>"
            ]
          },
          "metadata": {},
          "execution_count": 31
        }
      ]
    },
    {
      "cell_type": "code",
      "source": [
        "tf.tensordot(X, WT, axes = 1)"
      ],
      "metadata": {
        "colab": {
          "base_uri": "https://localhost:8080/"
        },
        "id": "rYOEWiH14pgT",
        "outputId": "37838f29-d663-40cc-9543-d6777947366d"
      },
      "execution_count": null,
      "outputs": [
        {
          "output_type": "execute_result",
          "data": {
            "text/plain": [
              "<tf.Tensor: shape=(6, 6), dtype=int32, numpy=\n",
              "array([[ 80,  88,  96, 104, 112, 120],\n",
              "       [ 90,  99, 108, 117, 126, 135],\n",
              "       [100, 110, 120, 130, 140, 150],\n",
              "       [110, 121, 132, 143, 154, 165],\n",
              "       [210, 231, 252, 273, 294, 315],\n",
              "       [230, 253, 276, 299, 322, 345]], dtype=int32)>"
            ]
          },
          "metadata": {},
          "execution_count": 32
        }
      ]
    },
    {
      "cell_type": "code",
      "source": [
        "tf.tensordot(X, WT, axes = 0)"
      ],
      "metadata": {
        "colab": {
          "base_uri": "https://localhost:8080/"
        },
        "id": "3rYeuV2E5Nrx",
        "outputId": "c168fc4d-0066-4e33-ce5d-2c26e4ee17f2"
      },
      "execution_count": null,
      "outputs": [
        {
          "output_type": "execute_result",
          "data": {
            "text/plain": [
              "<tf.Tensor: shape=(6, 1, 1, 6), dtype=int32, numpy=\n",
              "array([[[[ 80,  88,  96, 104, 112, 120]]],\n",
              "\n",
              "\n",
              "       [[[ 90,  99, 108, 117, 126, 135]]],\n",
              "\n",
              "\n",
              "       [[[100, 110, 120, 130, 140, 150]]],\n",
              "\n",
              "\n",
              "       [[[110, 121, 132, 143, 154, 165]]],\n",
              "\n",
              "\n",
              "       [[[210, 231, 252, 273, 294, 315]]],\n",
              "\n",
              "\n",
              "       [[[230, 253, 276, 299, 322, 345]]]], dtype=int32)>"
            ]
          },
          "metadata": {},
          "execution_count": 33
        }
      ]
    },
    {
      "cell_type": "markdown",
      "source": [
        "#Keras is high level API based on Tensorflow, to create deep level learning neural network easily. Dense Neural Network(DNN),CNN And RNN"
      ],
      "metadata": {
        "id": "WOrVyQ3-6oLd"
      }
    },
    {
      "cell_type": "code",
      "source": [],
      "metadata": {
        "id": "KQhnqUAA5fyM"
      },
      "execution_count": null,
      "outputs": []
    },
    {
      "cell_type": "code",
      "source": [],
      "metadata": {
        "id": "_TO1Jjcd6iVY"
      },
      "execution_count": null,
      "outputs": []
    }
  ]
}
{
 "cells": [
  {
   "cell_type": "markdown",
   "id": "e907bdd2",
   "metadata": {},
   "source": [
    "# 1. Read Image and convert image colour\n"
   ]
  },
  {
   "cell_type": "code",
   "execution_count": 1,
   "id": "1e2d3767",
   "metadata": {},
   "outputs": [],
   "source": [
    "import cv2"
   ]
  },
  {
   "cell_type": "code",
   "execution_count": 2,
   "id": "e1206306",
   "metadata": {},
   "outputs": [
    {
     "name": "stdout",
     "output_type": "stream",
     "text": [
      "Requirement already satisfied: opencv-python in c:\\users\\vihal\\anaconda3\\lib\\site-packages (4.8.1.78)\n",
      "Requirement already satisfied: numpy>=1.21.2 in c:\\users\\vihal\\anaconda3\\lib\\site-packages (from opencv-python) (1.24.3)\n"
     ]
    }
   ],
   "source": [
    "!pip install opencv-python"
   ]
  },
  {
   "cell_type": "code",
   "execution_count": 3,
   "id": "99bf391e",
   "metadata": {
    "scrolled": true
   },
   "outputs": [
    {
     "name": "stdout",
     "output_type": "stream",
     "text": [
      "Requirement already satisfied: opencv-contrib-python in c:\\users\\vihal\\anaconda3\\lib\\site-packages (4.9.0.80)\n",
      "Requirement already satisfied: numpy>=1.21.2 in c:\\users\\vihal\\anaconda3\\lib\\site-packages (from opencv-contrib-python) (1.24.3)\n"
     ]
    }
   ],
   "source": [
    "!pip install opencv-contrib-python\n"
   ]
  },
  {
   "cell_type": "code",
   "execution_count": 4,
   "id": "96da4d96",
   "metadata": {},
   "outputs": [],
   "source": [
    "img = cv2.imread(\"C:\\\\Users\\\\VIHAL\\\\OneDrive\\\\Desktop\\\\Images\\\\child.jpg\")"
   ]
  },
  {
   "cell_type": "code",
   "execution_count": 5,
   "id": "4f0b3ff2",
   "metadata": {},
   "outputs": [
    {
     "data": {
      "text/plain": [
       "array([[[  1, 109, 191],\n",
       "        [  1, 109, 191],\n",
       "        [  1, 109, 191],\n",
       "        ...,\n",
       "        [  2, 108, 191],\n",
       "        [  1, 108, 189],\n",
       "        [  0, 108, 189]],\n",
       "\n",
       "       [[  1, 109, 191],\n",
       "        [  1, 109, 191],\n",
       "        [  1, 109, 191],\n",
       "        ...,\n",
       "        [  2, 108, 191],\n",
       "        [  0, 108, 189],\n",
       "        [  0, 108, 189]],\n",
       "\n",
       "       [[  1, 109, 191],\n",
       "        [  1, 109, 191],\n",
       "        [  1, 109, 191],\n",
       "        ...,\n",
       "        [  2, 108, 191],\n",
       "        [  0, 108, 189],\n",
       "        [  0, 108, 189]],\n",
       "\n",
       "       ...,\n",
       "\n",
       "       [[  1, 102, 181],\n",
       "        [  2, 103, 182],\n",
       "        [  2, 103, 182],\n",
       "        ...,\n",
       "        [  2, 103, 182],\n",
       "        [  2, 103, 182],\n",
       "        [  2, 103, 182]],\n",
       "\n",
       "       [[  0, 103, 182],\n",
       "        [  0, 103, 182],\n",
       "        [  0, 103, 182],\n",
       "        ...,\n",
       "        [  2, 103, 182],\n",
       "        [  1, 102, 181],\n",
       "        [  1, 102, 181]],\n",
       "\n",
       "       [[  0, 103, 182],\n",
       "        [  0, 103, 182],\n",
       "        [  0, 103, 182],\n",
       "        ...,\n",
       "        [  2, 103, 182],\n",
       "        [  1, 102, 181],\n",
       "        [  1, 102, 181]]], dtype=uint8)"
      ]
     },
     "execution_count": 5,
     "metadata": {},
     "output_type": "execute_result"
    }
   ],
   "source": [
    "img"
   ]
  },
  {
   "cell_type": "code",
   "execution_count": 6,
   "id": "0835c622",
   "metadata": {},
   "outputs": [
    {
     "data": {
      "text/plain": [
       "array([[121, 121, 121, ..., 121, 120, 120],\n",
       "       [121, 121, 121, ..., 121, 120, 120],\n",
       "       [121, 121, 121, ..., 121, 120, 120],\n",
       "       ...,\n",
       "       [114, 115, 115, ..., 115, 115, 115],\n",
       "       [115, 115, 115, ..., 115, 114, 114],\n",
       "       [115, 115, 115, ..., 115, 114, 114]], dtype=uint8)"
      ]
     },
     "execution_count": 6,
     "metadata": {},
     "output_type": "execute_result"
    }
   ],
   "source": [
    "#1. Convert RBG image to gray scale\n",
    "cv2.cvtColor(img, cv2.COLOR_BGR2GRAY)"
   ]
  },
  {
   "cell_type": "code",
   "execution_count": 7,
   "id": "2e99b44b",
   "metadata": {},
   "outputs": [],
   "source": [
    "# convert BGR format to Grayscale\n",
    "img_g = cv2.cvtColor(img, cv2.COLOR_BGR2GRAY)\n"
   ]
  },
  {
   "cell_type": "code",
   "execution_count": 8,
   "id": "cd2518e5",
   "metadata": {},
   "outputs": [],
   "source": [
    "cv2.imshow('frame1', img)\n",
    "cv2.imshow('frame2', img_g)\n",
    "\n",
    "# press any key with 0 wait time\n",
    "cv2.waitKey(0)\n",
    "# Close all imageframe\n",
    "cv2.destroyAllWindows()"
   ]
  },
  {
   "cell_type": "markdown",
   "id": "81957781",
   "metadata": {},
   "source": [
    "# 2. Edge Detection using canny filter in OpenCV"
   ]
  },
  {
   "cell_type": "code",
   "execution_count": 9,
   "id": "6ff4186b",
   "metadata": {},
   "outputs": [],
   "source": [
    "import cv2\n",
    "\n",
    "img = cv2.imread(\"C:\\\\Users\\\\VIHAL\\\\OneDrive\\\\Desktop\\\\Images\\\\parrot.jpg\")\n",
    "\n",
    "cv2.imshow('Original', img)\n",
    "# convert BGR format to Grayscale\n",
    "img_g = cv2.cvtColor(img, cv2.COLOR_BGR2GRAY)\n",
    "\n",
    "# Canny(image, threshold1, threshold2)\n",
    "# Computing Edge Gradient with canny thresholds\n",
    "# The edge gradients that are greater tha threshold value will be detected as Edges\n",
    "# thresholds lower than threshold1 will not be considered as edges.\n",
    "edges_low = cv2.Canny(img_g, 50, 120)\n",
    "cv2.imshow('Edge Detection', edges_low)\n",
    "\n",
    "edges_high = cv2.Canny(img_g, 60, 200)\n",
    "cv2.imshow('High Edge Detection', edges_high)\n",
    "\n"
   ]
  },
  {
   "cell_type": "code",
   "execution_count": 10,
   "id": "ec11019f",
   "metadata": {},
   "outputs": [],
   "source": [
    "# press any key with 0 wait time\n",
    "cv2.waitKey(0)\n",
    "# Close all imageframe\n",
    "cv2.destroyAllWindows()"
   ]
  },
  {
   "cell_type": "markdown",
   "id": "f01c9eca",
   "metadata": {},
   "source": [
    "# 3. Smoothning of Image\n",
    "# Different ways of smothning - usung Filter 2D, Average, Median, Gaussian"
   ]
  },
  {
   "cell_type": "code",
   "execution_count": 12,
   "id": "43650e59",
   "metadata": {},
   "outputs": [
    {
     "name": "stdout",
     "output_type": "stream",
     "text": [
      "[[0.04 0.04 0.04 0.04 0.04]\n",
      " [0.04 0.04 0.04 0.04 0.04]\n",
      " [0.04 0.04 0.04 0.04 0.04]\n",
      " [0.04 0.04 0.04 0.04 0.04]\n",
      " [0.04 0.04 0.04 0.04 0.04]]\n"
     ]
    }
   ],
   "source": [
    "# Apply smoothening of Image - Apply Blur\n",
    "import cv2 \n",
    "import numpy as np\n",
    "\n",
    "img = cv2.imread(\"C:\\\\Users\\\\VIHAL\\\\OneDrive\\\\Desktop\\\\Images\\\\avengers.png\")\n",
    "\n",
    "# Blur using Filter2D\n",
    "kernel = np.ones((5,5), np.float32) / 25\n",
    "print(kernel)\n",
    "\n",
    "# Filter2D\n",
    "smoothed = cv2.filter2D(img, -1, kernel)\n",
    "\n",
    "# Average Blur\n",
    "img_blur = cv2.blur(img, (5,5))\n",
    "\n",
    "# Median Blur\n",
    "m_blur = cv2.medianBlur(img, 7)\n",
    "\n",
    "# Gaussian Blur, sigmaX(stdDev)= 1\n",
    "g_blur = cv2.GaussianBlur(img, (7,7), 1)\n",
    "\n",
    "cv2.imshow('Original', img)\n",
    "cv2.imshow('Blur', smoothed)\n",
    "cv2.imshow('average', img_blur)\n",
    "cv2.imshow('median', m_blur)\n",
    "cv2.imshow('gaussian', g_blur)\n",
    "\n",
    "# press any key with 0 wait time\n",
    "cv2.waitKey(0)\n",
    "# Close all imageframe\n",
    "cv2.destroyAllWindows()"
   ]
  },
  {
   "cell_type": "code",
   "execution_count": null,
   "id": "0cf9cee7",
   "metadata": {},
   "outputs": [],
   "source": []
  }
 ],
 "metadata": {
  "kernelspec": {
   "display_name": "Python 3 (ipykernel)",
   "language": "python",
   "name": "python3"
  },
  "language_info": {
   "codemirror_mode": {
    "name": "ipython",
    "version": 3
   },
   "file_extension": ".py",
   "mimetype": "text/x-python",
   "name": "python",
   "nbconvert_exporter": "python",
   "pygments_lexer": "ipython3",
   "version": "3.11.5"
  }
 },
 "nbformat": 4,
 "nbformat_minor": 5
}

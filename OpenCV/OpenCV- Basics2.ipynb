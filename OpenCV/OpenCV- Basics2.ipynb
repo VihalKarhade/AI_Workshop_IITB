{
 "cells": [
  {
   "cell_type": "code",
   "execution_count": 1,
   "id": "d9224650",
   "metadata": {},
   "outputs": [],
   "source": [
    "import cv2"
   ]
  },
  {
   "cell_type": "code",
   "execution_count": 2,
   "id": "61ffd64d",
   "metadata": {},
   "outputs": [],
   "source": [
    "img = cv2.imread(\"C:\\\\Users\\\\VIHAL\\\\OneDrive\\\\Desktop\\\\Images\\\\parrot.jpg\")"
   ]
  },
  {
   "cell_type": "code",
   "execution_count": 3,
   "id": "12e3e34e",
   "metadata": {},
   "outputs": [],
   "source": [
    "cv2.imshow('Original', img)"
   ]
  },
  {
   "cell_type": "code",
   "execution_count": 4,
   "id": "c84c3847",
   "metadata": {},
   "outputs": [],
   "source": [
    "# convert BGR format to Grayscale\n",
    "img_g = cv2.cvtColor(img, cv2.COLOR_BGR2GRAY)\n"
   ]
  },
  {
   "cell_type": "code",
   "execution_count": 5,
   "id": "9571c6c9",
   "metadata": {},
   "outputs": [],
   "source": [
    "# Canny(image, threshold1, threshold2)\n",
    "# Computing Edge Gradient with canny thresholds\n",
    "# The edge gradients that are greater tha threshold value will be detected as Edges\n",
    "# thresholds lower than threshold1 will not be considered as edges.\n",
    "edges_low = cv2.Canny(img_g, 50, 120)\n",
    "cv2.imshow('Edge Detection', edges_low)\n",
    "edges_high = cv2.Canny(img_g, 60, 200)\n",
    "cv2.imshow('High Edge Detection', edges_high)\n"
   ]
  },
  {
   "cell_type": "code",
   "execution_count": 6,
   "id": "4755daa1",
   "metadata": {},
   "outputs": [
    {
     "data": {
      "text/plain": [
       "27"
      ]
     },
     "execution_count": 6,
     "metadata": {},
     "output_type": "execute_result"
    }
   ],
   "source": [
    "# press any key with 0 wait time\n",
    "cv2.waitKey(0)"
   ]
  },
  {
   "cell_type": "code",
   "execution_count": 7,
   "id": "d3973a84",
   "metadata": {},
   "outputs": [],
   "source": [
    "# Close all imageframe\n",
    "cv2.destroyAllWindows()"
   ]
  },
  {
   "cell_type": "code",
   "execution_count": null,
   "id": "0882400e",
   "metadata": {},
   "outputs": [],
   "source": []
  }
 ],
 "metadata": {
  "kernelspec": {
   "display_name": "Python 3 (ipykernel)",
   "language": "python",
   "name": "python3"
  },
  "language_info": {
   "codemirror_mode": {
    "name": "ipython",
    "version": 3
   },
   "file_extension": ".py",
   "mimetype": "text/x-python",
   "name": "python",
   "nbconvert_exporter": "python",
   "pygments_lexer": "ipython3",
   "version": "3.11.5"
  }
 },
 "nbformat": 4,
 "nbformat_minor": 5
}

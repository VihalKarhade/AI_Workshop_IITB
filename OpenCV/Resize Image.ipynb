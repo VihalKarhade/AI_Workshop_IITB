{
 "cells": [
  {
   "cell_type": "code",
   "execution_count": 1,
   "id": "13e9e2b7",
   "metadata": {},
   "outputs": [],
   "source": [
    "# Resize an Image\n",
    "\n",
    "import cv2\n",
    "import imutils\n",
    "\n",
    "img = cv2.imread(\"C:\\\\Users\\\\VIHAL\\\\OneDrive\\\\Desktop\\\\Images\\\\pug.jpg\")\n",
    "\n",
    "# It takes height and width of image and reshapes to 500x500\n",
    "img_resize = cv2.resize(img, (700,700))\n",
    "\n",
    "img_resize1 = imutils.resize(img, width = 900)\n",
    "\n",
    "cv2.imshow('Original', img)\n",
    "cv2.imshow('Reshape', img_resize)\n",
    "cv2.imshow('Reshape1', img_resize1)\n",
    "\n",
    "# press any key with 0 wait time\n",
    "cv2.waitKey(0)\n",
    "# Close all imageframe\n",
    "cv2.destroyAllWindows()"
   ]
  },
  {
   "cell_type": "code",
   "execution_count": null,
   "id": "f7b6e63f",
   "metadata": {},
   "outputs": [],
   "source": []
  },
  {
   "cell_type": "code",
   "execution_count": null,
   "id": "53ac7178",
   "metadata": {},
   "outputs": [],
   "source": []
  }
 ],
 "metadata": {
  "kernelspec": {
   "display_name": "Python 3 (ipykernel)",
   "language": "python",
   "name": "python3"
  },
  "language_info": {
   "codemirror_mode": {
    "name": "ipython",
    "version": 3
   },
   "file_extension": ".py",
   "mimetype": "text/x-python",
   "name": "python",
   "nbconvert_exporter": "python",
   "pygments_lexer": "ipython3",
   "version": "3.11.5"
  }
 },
 "nbformat": 4,
 "nbformat_minor": 5
}

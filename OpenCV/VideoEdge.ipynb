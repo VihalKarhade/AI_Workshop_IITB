{
 "cells": [
  {
   "cell_type": "code",
   "execution_count": 1,
   "id": "69f0c60b",
   "metadata": {},
   "outputs": [],
   "source": [
    "import cv2\n",
    "\n",
    "cap = cv2.VideoCapture(\"C:\\\\Users\\\\VIHAL\\\\OneDrive\\\\Desktop\\\\Images\\\\Video.avi\")\n",
    "\n",
    "while (cap.isOpened()):\n",
    "    ret, frame = cap.read()\n",
    "    frame = cv2.resize(frame, (840,680), fx = 200, fy = 300, \n",
    "                       interpolation = cv2.INTER_NEAREST)\n",
    "    cv2.imshow('Original', frame)\n",
    "    \n",
    "    # convert BGR format to Grayscale\n",
    "    img_g = cv2.cvtColor(frame, cv2.COLOR_BGR2GRAY)\n",
    "    \n",
    "    edges_low = cv2.Canny(img_g, 50, 150)\n",
    "    edges_high = cv2.Canny(img_g, 150, 220)\n",
    " \n",
    "    cv2.imshow('original',frame)\n",
    "    cv2.imshow('Edges',edges_low)\n",
    "    cv2.imshow('Edges High',edges_high)\n",
    "    \n",
    "    k = cv2.waitKey(60) & 0xFF\n",
    "    if k == ord('q') or k == 27:\n",
    "        break\n",
    "    \n",
    "cap.release()\n",
    "cv2.destroyAllWindows()"
   ]
  },
  {
   "cell_type": "code",
   "execution_count": null,
   "id": "bb1e0f93",
   "metadata": {},
   "outputs": [],
   "source": []
  }
 ],
 "metadata": {
  "kernelspec": {
   "display_name": "Python 3 (ipykernel)",
   "language": "python",
   "name": "python3"
  },
  "language_info": {
   "codemirror_mode": {
    "name": "ipython",
    "version": 3
   },
   "file_extension": ".py",
   "mimetype": "text/x-python",
   "name": "python",
   "nbconvert_exporter": "python",
   "pygments_lexer": "ipython3",
   "version": "3.11.5"
  }
 },
 "nbformat": 4,
 "nbformat_minor": 5
}

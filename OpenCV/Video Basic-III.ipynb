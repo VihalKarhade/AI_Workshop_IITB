{
 "cells": [
  {
   "cell_type": "code",
   "execution_count": 1,
   "id": "ff098d66",
   "metadata": {},
   "outputs": [],
   "source": [
    "import cv2\n",
    "\n",
    "cap = cv2.VideoCapture(\"C:\\\\Users\\\\VIHAL\\\\OneDrive\\\\Desktop\\\\Images\\\\Video.avi\")\n",
    "\n",
    "while (cap.isOpened()):\n",
    "    ret, frame = cap.read()\n",
    "    # increase the video resolution\n",
    "    # fx = scale factor along horizontal axis\n",
    "    # fy = scale factor along vertical axis\n",
    "    frame = cv2.resize(frame, (840,680), fx = 200, fy = 300, \n",
    "                       interpolation = cv2.INTER_NEAREST)\n",
    "    cv2.imshow('Original', frame)\n",
    "    \n",
    "    # Average Blur\n",
    "    img_blur = cv2.blur(frame, (5,5))\n",
    "    cv2.imshow('Blur', img_blur)\n",
    "\n",
    "    # Median Blur\n",
    "    m_blur = cv2.medianBlur(frame, 7)\n",
    "    cv2.imshow('Median Blur', m_blur)\n",
    "\n",
    "    # Gaussian Blur, sigmaX(stdDev)= 1\n",
    "    g_blur = cv2.GaussianBlur(frame, (7,7), 1)\n",
    "    cv2.imshow('Gaussian Blur', g_blur)\n",
    "    \n",
    "    k = cv2.waitKey(10) & 0xFF\n",
    "    if k == ord('q') or k == 27:\n",
    "        break\n",
    "    \n",
    "cap.release()\n",
    "cv2.destroyAllWindows()"
   ]
  },
  {
   "cell_type": "code",
   "execution_count": null,
   "id": "2455f097",
   "metadata": {},
   "outputs": [],
   "source": []
  }
 ],
 "metadata": {
  "kernelspec": {
   "display_name": "Python 3 (ipykernel)",
   "language": "python",
   "name": "python3"
  },
  "language_info": {
   "codemirror_mode": {
    "name": "ipython",
    "version": 3
   },
   "file_extension": ".py",
   "mimetype": "text/x-python",
   "name": "python",
   "nbconvert_exporter": "python",
   "pygments_lexer": "ipython3",
   "version": "3.11.5"
  }
 },
 "nbformat": 4,
 "nbformat_minor": 5
}
